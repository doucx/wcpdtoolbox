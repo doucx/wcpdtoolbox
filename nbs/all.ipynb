{
 "cells": [
  {
   "cell_type": "markdown",
   "id": "60451afe-6c34-47cc-9b97-4026daa23ab5",
   "metadata": {},
   "source": [
    "# all\n",
    "> 导入全部的组件"
   ]
  },
  {
   "cell_type": "code",
   "execution_count": null,
   "id": "86529a47-b3a4-49dd-b3ae-8ef2de894cc1",
   "metadata": {},
   "outputs": [],
   "source": [
    "#| default_exp all"
   ]
  },
  {
   "cell_type": "code",
   "execution_count": null,
   "id": "26acbfb7-594d-459b-b7a7-bc7be64d04a9",
   "metadata": {},
   "outputs": [],
   "source": [
    "#| hide\n",
    "from nbdev.showdoc import *"
   ]
  },
  {
   "cell_type": "code",
   "execution_count": null,
   "id": "d6455e99-dfb8-49ff-b4a3-a483a0cc9dea",
   "metadata": {},
   "outputs": [],
   "source": [
    "#| export\n",
    "from wcpdtoolbox.imports import *\n",
    "\n",
    "from wcpdtoolbox.vision import *\n",
    "from wcpdtoolbox.audio import *\n",
    "from wcpdtoolbox.data import *\n",
    "from wcpdtoolbox.model import *\n",
    "from wcpdtoolbox.visualization import *"
   ]
  },
  {
   "cell_type": "code",
   "execution_count": null,
   "id": "a16940d0-2f9c-4ead-ae73-6026e60d0a25",
   "metadata": {},
   "outputs": [],
   "source": [
    "#| hide\n",
    "import nbdev; nbdev.nbdev_export()"
   ]
  },
  {
   "cell_type": "code",
   "execution_count": null,
   "id": "4af25362-3370-41eb-a03f-4d0fe6bea358",
   "metadata": {},
   "outputs": [],
   "source": []
  }
 ],
 "metadata": {
  "kernelspec": {
   "display_name": "Python 3 (ipykernel)",
   "language": "python",
   "name": "python3"
  },
  "widgets": {
   "application/vnd.jupyter.widget-state+json": {
    "state": {},
    "version_major": 2,
    "version_minor": 0
   }
  }
 },
 "nbformat": 4,
 "nbformat_minor": 5
}
