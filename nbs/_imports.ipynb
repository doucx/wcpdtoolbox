{
 "cells": [
  {
   "cell_type": "code",
   "execution_count": null,
   "id": "b7b5f7c2-be3c-437b-8490-6a6e11b676f6",
   "metadata": {},
   "outputs": [],
   "source": [
    "#| default_exp imports"
   ]
  },
  {
   "cell_type": "code",
   "execution_count": null,
   "id": "ba087d9a-cb72-462d-aa43-837d7d403903",
   "metadata": {},
   "outputs": [],
   "source": [
    "#| export \n",
    "# 导入需要的包 \n",
    "import cv2\n",
    "import torch\n",
    "import graphviz\n",
    "import gc\n",
    "\n",
    "from threading import Thread\n",
    "from multiprocess import Queue\n",
    "from fastcore import *\n",
    "from fastbook import *\n",
    "from fastcore.all import *\n",
    "import fastbook\n",
    "fastbook.setup_book()"
   ]
  },
  {
   "cell_type": "code",
   "execution_count": null,
   "id": "30f305bc-cfc8-4e00-90c7-268a52ce44a8",
   "metadata": {},
   "outputs": [],
   "source": [
    "#| hide\n",
    "import nbdev; nbdev.nbdev_export()"
   ]
  }
 ],
 "metadata": {
  "kernelspec": {
   "display_name": "Python 3 (ipykernel)",
   "language": "python",
   "name": "python3"
  },
  "widgets": {
   "application/vnd.jupyter.widget-state+json": {
    "state": {},
    "version_major": 2,
    "version_minor": 0
   }
  }
 },
 "nbformat": 4,
 "nbformat_minor": 5
}
