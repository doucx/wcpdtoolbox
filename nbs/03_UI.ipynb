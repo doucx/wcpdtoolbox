{
 "cells": [
  {
   "cell_type": "code",
   "execution_count": null,
   "id": "c16323e2-4c6c-4490-8556-258b49752965",
   "metadata": {},
   "outputs": [],
   "source": [
    "#| default_exp ui"
   ]
  },
  {
   "cell_type": "code",
   "execution_count": null,
   "id": "66005213-3354-4aec-9d59-f482ced3fece",
   "metadata": {},
   "outputs": [],
   "source": [
    "#| hide\n",
    "from nbdev.showdoc import *"
   ]
  },
  {
   "cell_type": "code",
   "execution_count": null,
   "id": "aa1abc74-5159-4fbe-8507-9c25d0337d9b",
   "metadata": {},
   "outputs": [],
   "source": [
    "#| export\n",
    "from wcpdtoolbox.imports import *"
   ]
  },
  {
   "cell_type": "code",
   "execution_count": null,
   "id": "73b68e6f-4085-43f3-a8ad-af55b4b54f24",
   "metadata": {},
   "outputs": [],
   "source": [
    "#| hide\n",
    "import nbdev; nbdev.nbdev_export()"
   ]
  }
 ],
 "metadata": {
  "kernelspec": {
   "display_name": "Python 3 (ipykernel)",
   "language": "python",
   "name": "python3"
  },
  "widgets": {
   "application/vnd.jupyter.widget-state+json": {
    "state": {},
    "version_major": 2,
    "version_minor": 0
   }
  }
 },
 "nbformat": 4,
 "nbformat_minor": 5
}
