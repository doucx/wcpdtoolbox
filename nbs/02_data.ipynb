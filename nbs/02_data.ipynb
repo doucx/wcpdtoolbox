{
 "cells": [
  {
   "cell_type": "code",
   "execution_count": null,
   "id": "c16323e2-4c6c-4490-8556-258b49752965",
   "metadata": {},
   "outputs": [],
   "source": [
    "#| default_exp vision"
   ]
  },
  {
   "cell_type": "code",
   "execution_count": null,
   "id": "66005213-3354-4aec-9d59-f482ced3fece",
   "metadata": {},
   "outputs": [],
   "source": [
    "#| hide\n",
    "from nbdev.showdoc import *"
   ]
  },
  {
   "cell_type": "code",
   "execution_count": null,
   "id": "aa1abc74-5159-4fbe-8507-9c25d0337d9b",
   "metadata": {},
   "outputs": [],
   "source": [
    "#| export\n",
    "from wcpdtoolbox.imports import *"
   ]
  },
  {
   "cell_type": "markdown",
   "id": "7c94ea7d-ec45-471d-a196-0a44a202a187",
   "metadata": {},
   "source": [
    "# Data"
   ]
  },
  {
   "cell_type": "markdown",
   "id": "ffa20b36-49fe-4633-9da2-f09aa39d1a83",
   "metadata": {},
   "source": [
    "数据的处理流"
   ]
  },
  {
   "cell_type": "markdown",
   "id": "f996e221-227e-4d19-b3cb-1da5e53abc5c",
   "metadata": {},
   "source": [
    "## Local"
   ]
  },
  {
   "cell_type": "markdown",
   "id": "14ecbfa3-f038-4ffd-89d7-98d89dc5e611",
   "metadata": {},
   "source": [
    "### Folder"
   ]
  },
  {
   "cell_type": "markdown",
   "id": "acfd7c69-3420-4cee-bb80-4803b8334d8d",
   "metadata": {},
   "source": [
    "## URL"
   ]
  },
  {
   "cell_type": "markdown",
   "id": "ebdd740a-fee3-4f17-92a4-ba036a97c668",
   "metadata": {},
   "source": [
    "### download"
   ]
  },
  {
   "cell_type": "markdown",
   "id": "844b3831-6138-47aa-96a0-931eb63683e9",
   "metadata": {},
   "source": [
    "### mqtt"
   ]
  },
  {
   "cell_type": "code",
   "execution_count": null,
   "id": "73b68e6f-4085-43f3-a8ad-af55b4b54f24",
   "metadata": {},
   "outputs": [],
   "source": [
    "#| hide\n",
    "import nbdev; nbdev.nbdev_export()"
   ]
  }
 ],
 "metadata": {
  "kernelspec": {
   "display_name": "Python 3 (ipykernel)",
   "language": "python",
   "name": "python3"
  },
  "widgets": {
   "application/vnd.jupyter.widget-state+json": {
    "state": {},
    "version_major": 2,
    "version_minor": 0
   }
  }
 },
 "nbformat": 4,
 "nbformat_minor": 5
}
