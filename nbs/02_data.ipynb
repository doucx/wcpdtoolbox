{
 "cells": [
  {
   "cell_type": "code",
   "execution_count": null,
   "id": "c16323e2-4c6c-4490-8556-258b49752965",
   "metadata": {},
   "outputs": [],
   "source": [
    "#| default_exp data"
   ]
  },
  {
   "cell_type": "code",
   "execution_count": null,
   "id": "66005213-3354-4aec-9d59-f482ced3fece",
   "metadata": {},
   "outputs": [],
   "source": [
    "#| hide\n",
    "from nbdev.showdoc import *"
   ]
  },
  {
   "cell_type": "code",
   "execution_count": null,
   "id": "aa1abc74-5159-4fbe-8507-9c25d0337d9b",
   "metadata": {},
   "outputs": [],
   "source": [
    "#| export\n",
    "from wcpdtoolbox.imports import *"
   ]
  },
  {
   "cell_type": "markdown",
   "id": "7c94ea7d-ec45-471d-a196-0a44a202a187",
   "metadata": {},
   "source": [
    "# Data"
   ]
  },
  {
   "cell_type": "code",
   "execution_count": null,
   "id": "73a0f40c-cc30-482d-bf32-3731f1ce58c7",
   "metadata": {},
   "outputs": [],
   "source": [
    "#| export\n",
    "def pick_one(l): return l[random.randint(0, len(l)-1)]"
   ]
  },
  {
   "cell_type": "markdown",
   "id": "be38e6ed-3496-4950-a959-58f567c6ce44",
   "metadata": {},
   "source": [
    "从给的列表(有len和getitem方法的对象)里随机提取一个项目"
   ]
  },
  {
   "cell_type": "code",
   "execution_count": null,
   "id": "2257038b-280d-410b-b4bb-365b116c6150",
   "metadata": {},
   "outputs": [],
   "source": [
    "path = untar_data(url=URLs.PETS)\n",
    "imgs = get_image_files(path/'images')"
   ]
  },
  {
   "cell_type": "code",
   "execution_count": null,
   "id": "68354c1e-6187-4d07-aa05-a19f4de116aa",
   "metadata": {},
   "outputs": [
    {
     "data": {
      "text/plain": [
       "Path('/root/.fastai/data/oxford-iiit-pet/images/saint_bernard_186.jpg')"
      ]
     },
     "execution_count": null,
     "metadata": {},
     "output_type": "execute_result"
    }
   ],
   "source": [
    "pick_one(imgs)"
   ]
  },
  {
   "cell_type": "code",
   "execution_count": null,
   "id": "73b68e6f-4085-43f3-a8ad-af55b4b54f24",
   "metadata": {},
   "outputs": [],
   "source": [
    "#| hide\n",
    "import nbdev; nbdev.nbdev_export()"
   ]
  }
 ],
 "metadata": {
  "kernelspec": {
   "display_name": "Python 3 (ipykernel)",
   "language": "python",
   "name": "python3"
  },
  "widgets": {
   "application/vnd.jupyter.widget-state+json": {
    "state": {},
    "version_major": 2,
    "version_minor": 0
   }
  }
 },
 "nbformat": 4,
 "nbformat_minor": 5
}
