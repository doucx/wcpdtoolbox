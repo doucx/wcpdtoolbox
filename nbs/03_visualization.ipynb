{
 "cells": [
  {
   "cell_type": "markdown",
   "id": "05726cc6-21e9-488b-be14-41c007827103",
   "metadata": {},
   "source": [
    "# visualization\n",
    "> 用来进行可视化的部分"
   ]
  },
  {
   "cell_type": "code",
   "execution_count": null,
   "id": "c16323e2-4c6c-4490-8556-258b49752965",
   "metadata": {},
   "outputs": [],
   "source": [
    "#| default_exp visualization"
   ]
  },
  {
   "cell_type": "code",
   "execution_count": null,
   "id": "66005213-3354-4aec-9d59-f482ced3fece",
   "metadata": {},
   "outputs": [],
   "source": [
    "#| hide\n",
    "from nbdev.showdoc import *"
   ]
  },
  {
   "cell_type": "code",
   "execution_count": null,
   "id": "aa1abc74-5159-4fbe-8507-9c25d0337d9b",
   "metadata": {},
   "outputs": [],
   "source": [
    "#| export\n",
    "from wcpdtoolbox.imports import *"
   ]
  },
  {
   "cell_type": "markdown",
   "id": "efa2fe64-5941-4ef7-8ca7-c8dedf27bfc3",
   "metadata": {},
   "source": [
    "## img"
   ]
  },
  {
   "cell_type": "markdown",
   "id": "5d7d947a-1950-463c-a955-8e5ba645c310",
   "metadata": {},
   "source": [
    "## video"
   ]
  },
  {
   "cell_type": "markdown",
   "id": "ed782f2a-fbe6-4e9f-8dff-63091d0e5a36",
   "metadata": {},
   "source": [
    "## audio"
   ]
  },
  {
   "cell_type": "code",
   "execution_count": null,
   "id": "73b68e6f-4085-43f3-a8ad-af55b4b54f24",
   "metadata": {},
   "outputs": [],
   "source": [
    "#| hide\n",
    "import nbdev; nbdev.nbdev_export()"
   ]
  }
 ],
 "metadata": {
  "kernelspec": {
   "display_name": "Python 3 (ipykernel)",
   "language": "python",
   "name": "python3"
  },
  "widgets": {
   "application/vnd.jupyter.widget-state+json": {
    "state": {},
    "version_major": 2,
    "version_minor": 0
   }
  }
 },
 "nbformat": 4,
 "nbformat_minor": 5
}
