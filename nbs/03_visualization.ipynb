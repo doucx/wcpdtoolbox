{
 "cells": [
  {
   "cell_type": "markdown",
   "id": "05726cc6-21e9-488b-be14-41c007827103",
   "metadata": {},
   "source": [
    "# visualization\n",
    "> 用来进行可视化的部分"
   ]
  },
  {
   "cell_type": "code",
   "execution_count": null,
   "id": "c16323e2-4c6c-4490-8556-258b49752965",
   "metadata": {},
   "outputs": [],
   "source": [
    "#| default_exp visualization"
   ]
  },
  {
   "cell_type": "code",
   "execution_count": null,
   "id": "66005213-3354-4aec-9d59-f482ced3fece",
   "metadata": {},
   "outputs": [],
   "source": [
    "#| hide\n",
    "from nbdev.showdoc import *"
   ]
  },
  {
   "cell_type": "code",
   "execution_count": null,
   "id": "aa1abc74-5159-4fbe-8507-9c25d0337d9b",
   "metadata": {},
   "outputs": [],
   "source": [
    "#| export\n",
    "from wcpdtoolbox.imports import *\n",
    "from plotly import graph_objects as go"
   ]
  },
  {
   "cell_type": "code",
   "execution_count": null,
   "id": "b4d41a94-fa9e-4782-a734-4b33495040e4",
   "metadata": {},
   "outputs": [],
   "source": [
    "from fastai.test_utils import *"
   ]
  },
  {
   "cell_type": "markdown",
   "id": "02f84118-ac4a-4a5f-b64b-eaba6d481173",
   "metadata": {},
   "source": [
    "## Callback"
   ]
  },
  {
   "cell_type": "code",
   "execution_count": null,
   "id": "cf2a281b-2f81-4acb-8d38-d0e38310c79a",
   "metadata": {},
   "outputs": [],
   "source": [
    "#| export\n",
    "class GradShowCallback(Callback):\n",
    "    def __init__(self,l=None, show=True):\n",
    "        self.grad_list = L() if l is None else l\n",
    "        self.show = show\n",
    "    def before_step(self):\n",
    "        grads = []\n",
    "        for i in self.learn.model.parameters():\n",
    "            if not i.grad is None:\n",
    "                grads.append(to_detach(i.grad.abs().mean()))\n",
    "            else:\n",
    "                grads.append(tensor(0.))\n",
    "        self.grad_list.append(grads)\n",
    "    \n",
    "    def after_fit(self):\n",
    "        if not self.show:\n",
    "            return\n",
    "        fig = go.Figure()\n",
    "        name = [name for name, _ in self.learn.model.named_parameters()]\n",
    "        arr = array(self.grad_list).T\n",
    "        x = np.arange(len(arr))\n",
    "        for a,n in zip(arr, name):\n",
    "            fig.add_trace(go.Scatter(x=x, y=a, name=n))\n",
    "        fig.show()"
   ]
  },
  {
   "cell_type": "markdown",
   "id": "900b3ecb-8b8d-433d-aa63-20ee2ffd46f1",
   "metadata": {},
   "source": [
    "显示各层的grad曲线\n",
    "```python\n",
    "grad.abs().mean()\n",
    "```"
   ]
  },
  {
   "cell_type": "code",
   "execution_count": null,
   "id": "43e3934b-8cb3-4d77-a5ee-222d723e10b6",
   "metadata": {},
   "outputs": [
    {
     "data": {
      "text/html": [
       "\n",
       "<style>\n",
       "    /* Turns off some styling */\n",
       "    progress {\n",
       "        /* gets rid of default border in Firefox and Opera. */\n",
       "        border: none;\n",
       "        /* Needs to be in here for Safari polyfill so background images work as expected. */\n",
       "        background-size: auto;\n",
       "    }\n",
       "    progress:not([value]), progress:not([value])::-webkit-progress-bar {\n",
       "        background: repeating-linear-gradient(45deg, #7e7e7e, #7e7e7e 10px, #5c5c5c 10px, #5c5c5c 20px);\n",
       "    }\n",
       "    .progress-bar-interrupted, .progress-bar-interrupted::-webkit-progress-bar {\n",
       "        background: #F44336;\n",
       "    }\n",
       "</style>\n"
      ],
      "text/plain": [
       "<IPython.core.display.HTML object>"
      ]
     },
     "metadata": {},
     "output_type": "display_data"
    },
    {
     "data": {
      "text/html": [
       "<table border=\"1\" class=\"dataframe\">\n",
       "  <thead>\n",
       "    <tr style=\"text-align: left;\">\n",
       "      <th>epoch</th>\n",
       "      <th>train_loss</th>\n",
       "      <th>valid_loss</th>\n",
       "      <th>time</th>\n",
       "    </tr>\n",
       "  </thead>\n",
       "  <tbody>\n",
       "    <tr>\n",
       "      <td>0</td>\n",
       "      <td>5.507834</td>\n",
       "      <td>1.441192</td>\n",
       "      <td>00:00</td>\n",
       "    </tr>\n",
       "    <tr>\n",
       "      <td>1</td>\n",
       "      <td>1.119631</td>\n",
       "      <td>0.389834</td>\n",
       "      <td>00:00</td>\n",
       "    </tr>\n",
       "  </tbody>\n",
       "</table>"
      ],
      "text/plain": [
       "<IPython.core.display.HTML object>"
      ]
     },
     "metadata": {},
     "output_type": "display_data"
    },
    {
     "data": {
      "application/vnd.plotly.v1+json": {
       "config": {
        "plotlyServerURL": "https://plot.ly"
       },
       "data": [
        {
         "name": "a",
         "type": "scatter",
         "x": [
          0,
          1
         ],
         "y": [
          8.119822,
          0.9402475,
          3.229493,
          9.341185,
          5.723919,
          5.3973985,
          4.716996,
          8.423582,
          4.612071,
          9.782549,
          4.8562903,
          6.04014,
          7.0959635,
          3.6966622,
          4.495921,
          4.2220354,
          8.392284,
          6.14247,
          4.511704,
          5.701572,
          3.6583195,
          0.34123406,
          3.007774,
          7.436549,
          4.77419,
          3.5226185,
          8.503612,
          1.8034253,
          7.7582192,
          3.9169974,
          3.5003982,
          3.4907968,
          3.5831454,
          11.3288,
          3.907097,
          5.696464,
          2.2367592,
          0.81884706,
          2.9247913,
          5.505234,
          4.220889,
          5.7415752,
          5.316143,
          1.8910787,
          3.2078185,
          2.8419485,
          1.0067054,
          3.6524737,
          3.4675174,
          3.1861134,
          2.5570426,
          1.9319935,
          0.59801984,
          0.8809114,
          2.3592668,
          2.8089845,
          2.9218209,
          1.8372817,
          2.3062203,
          0.9331213,
          1.4121523,
          1.5380168,
          2.6160653,
          1.4747156,
          5.0571265,
          1.2242417,
          2.1272223,
          2.1090765,
          0.7570004,
          0.21161248,
          1.3574699,
          0.2808871,
          1.509648,
          1.0104232,
          1.6852046,
          0.34118828,
          1.7531191,
          1.1776304,
          1.2711377,
          2.583817,
          3.1530035,
          1.2605577,
          0.6902214,
          1.6656442,
          0.48181343,
          0.8728027,
          2.5081089,
          1.5760792,
          1.4189343,
          0.7439399,
          0.79699355,
          0.8149728,
          0.097582504,
          1.6767323,
          1.8471721,
          1.514013,
          0.098826304,
          1.4127332,
          0.49021772,
          2.2246778,
          1.1924645,
          1.8432845,
          0.96864253,
          1.3835751,
          3.0867515,
          0.9654981,
          1.6483736,
          0.710123,
          1.1033162,
          1.0369835,
          0.676562,
          0.59893006,
          1.7481245,
          1.963239,
          1.5116208,
          1.103605,
          0.5946347,
          1.3780924,
          1.9911962,
          0.5399275,
          0.48628908,
          0.27094817,
          1.3843166,
          1.0646852,
          0.64727813,
          0.2093051,
          0.33462304,
          0.9877186,
          0.0722495,
          0.7408088,
          0.7590084,
          1.8902949,
          1.58287,
          1.1286323,
          1.2538593,
          1.0254462,
          0.6111356,
          2.0124319,
          1.0539919,
          0.72955716,
          0.82510626,
          1.352047,
          1.4406304,
          0.8548115,
          0.76409525,
          0.600452,
          0.7588134,
          1.8075927,
          0.7423207,
          0.5975759,
          0.027275521,
          0.6523324,
          0.7581505,
          0.39195377,
          1.1660464,
          0.72205776,
          0.23695046,
          0.27146408,
          1.0564698,
          0.9638665,
          0.44762915,
          0.07925257,
          0.23723993,
          0.13582332,
          0.03318081,
          0.5722248,
          0.5728078,
          0.22425224,
          1.7336931,
          1.9107767,
          0.61155415,
          0.18978998,
          0.26551795,
          0.3300724,
          0.86627424,
          0.41774306,
          0.39325243,
          1.0213288,
          0.8896936,
          0.42777377,
          0.42228362,
          0.40257812,
          0.7883654,
          1.951148,
          0.55608505,
          1.047178,
          0.73085964,
          0.42549568,
          0.9151305,
          0.66025054,
          0.6933654,
          0.6368299,
          0.8704666,
          0.01677738,
          0.8860041,
          0.37266177,
          0.5117581,
          0.7119954,
          0.4159606,
          0.72063625
         ]
        },
        {
         "name": "b",
         "type": "scatter",
         "x": [
          0,
          1
         ],
         "y": [
          9.576994,
          5.9909525,
          6.6011596,
          9.289574,
          5.863434,
          7.8252034,
          8.192879,
          8.071185,
          7.813909,
          8.710083,
          8.057498,
          7.485116,
          8.208965,
          6.7033873,
          7.586826,
          6.227688,
          5.5867486,
          7.172433,
          7.616716,
          7.2615476,
          5.4491696,
          5.007675,
          6.208762,
          8.592902,
          6.157804,
          6.6421213,
          9.043645,
          6.3397365,
          7.5463943,
          5.40577,
          5.8663855,
          5.7122526,
          5.302967,
          7.248067,
          6.288173,
          6.723015,
          4.684423,
          4.4837894,
          4.664954,
          5.638549,
          5.965152,
          6.457618,
          5.4234667,
          3.9528358,
          4.3172703,
          3.8349895,
          4.1709356,
          4.760639,
          4.9422817,
          4.7243257,
          4.821143,
          4.366282,
          3.41849,
          3.3581905,
          3.9087687,
          3.6932485,
          3.8104858,
          3.538984,
          3.1904237,
          3.2677317,
          3.3705482,
          2.9415865,
          4.0446005,
          3.299338,
          4.4629383,
          3.2060895,
          3.7996905,
          3.1800783,
          2.8500729,
          2.6128874,
          2.8874953,
          2.4463985,
          3.1876316,
          2.838379,
          2.4286485,
          2.768685,
          2.9577754,
          2.6963267,
          2.4421613,
          3.261463,
          3.6705554,
          2.3050356,
          2.5001118,
          2.4509065,
          2.3264434,
          2.2359884,
          2.9600723,
          2.5350726,
          2.417643,
          2.1438327,
          2.370777,
          2.491338,
          1.7075285,
          2.4363022,
          2.5247545,
          2.563665,
          1.6770573,
          2.2541485,
          1.7790806,
          2.477648,
          1.8773258,
          2.0230746,
          2.036047,
          1.7745993,
          2.9393432,
          2.094821,
          2.1479163,
          1.9024096,
          1.7564025,
          1.9416099,
          1.7628921,
          1.6653116,
          2.1362128,
          2.1997519,
          1.8522143,
          1.8541963,
          1.4965441,
          1.8153872,
          1.9536723,
          1.4654979,
          1.4560533,
          1.4343414,
          1.8000883,
          1.8010094,
          1.4423823,
          1.327421,
          1.4575201,
          1.6511362,
          1.3229703,
          1.3937538,
          1.357484,
          1.942816,
          1.64504,
          1.4868817,
          1.6207912,
          1.6316339,
          1.4181546,
          1.7095473,
          1.4740124,
          1.4293584,
          1.3188219,
          1.5222957,
          1.4145873,
          1.3063935,
          1.051089,
          1.3640003,
          1.2759143,
          1.6714894,
          1.1699558,
          1.2374035,
          0.9656333,
          1.3245999,
          1.2947553,
          0.94716346,
          1.3842535,
          1.1837991,
          1.1934671,
          0.9460564,
          1.2170753,
          1.3713307,
          1.1022922,
          0.7599247,
          1.1069942,
          0.79771835,
          1.0375973,
          1.2293241,
          1.1719377,
          0.9586881,
          1.6268257,
          1.6452788,
          1.036791,
          0.86453867,
          0.83773696,
          1.1530952,
          1.0747958,
          1.0926323,
          0.8892747,
          1.310763,
          1.1026942,
          1.0821764,
          1.0887599,
          0.90103334,
          1.1653552,
          1.5419751,
          0.9412638,
          1.0678966,
          1.0225968,
          1.0447553,
          0.88171166,
          1.1358646,
          1.1881384,
          1.2051398,
          1.2210315,
          0.92109996,
          1.3527539,
          0.98988944,
          0.9011748,
          1.1366631,
          1.0541523,
          1.1310428
         ]
        }
       ],
       "layout": {
        "autosize": true,
        "template": {
         "data": {
          "bar": [
           {
            "error_x": {
             "color": "#2a3f5f"
            },
            "error_y": {
             "color": "#2a3f5f"
            },
            "marker": {
             "line": {
              "color": "#E5ECF6",
              "width": 0.5
             },
             "pattern": {
              "fillmode": "overlay",
              "size": 10,
              "solidity": 0.2
             }
            },
            "type": "bar"
           }
          ],
          "barpolar": [
           {
            "marker": {
             "line": {
              "color": "#E5ECF6",
              "width": 0.5
             },
             "pattern": {
              "fillmode": "overlay",
              "size": 10,
              "solidity": 0.2
             }
            },
            "type": "barpolar"
           }
          ],
          "carpet": [
           {
            "aaxis": {
             "endlinecolor": "#2a3f5f",
             "gridcolor": "white",
             "linecolor": "white",
             "minorgridcolor": "white",
             "startlinecolor": "#2a3f5f"
            },
            "baxis": {
             "endlinecolor": "#2a3f5f",
             "gridcolor": "white",
             "linecolor": "white",
             "minorgridcolor": "white",
             "startlinecolor": "#2a3f5f"
            },
            "type": "carpet"
           }
          ],
          "choropleth": [
           {
            "colorbar": {
             "outlinewidth": 0,
             "ticks": ""
            },
            "type": "choropleth"
           }
          ],
          "contour": [
           {
            "colorbar": {
             "outlinewidth": 0,
             "ticks": ""
            },
            "colorscale": [
             [
              0,
              "#0d0887"
             ],
             [
              0.1111111111111111,
              "#46039f"
             ],
             [
              0.2222222222222222,
              "#7201a8"
             ],
             [
              0.3333333333333333,
              "#9c179e"
             ],
             [
              0.4444444444444444,
              "#bd3786"
             ],
             [
              0.5555555555555556,
              "#d8576b"
             ],
             [
              0.6666666666666666,
              "#ed7953"
             ],
             [
              0.7777777777777778,
              "#fb9f3a"
             ],
             [
              0.8888888888888888,
              "#fdca26"
             ],
             [
              1,
              "#f0f921"
             ]
            ],
            "type": "contour"
           }
          ],
          "contourcarpet": [
           {
            "colorbar": {
             "outlinewidth": 0,
             "ticks": ""
            },
            "type": "contourcarpet"
           }
          ],
          "heatmap": [
           {
            "colorbar": {
             "outlinewidth": 0,
             "ticks": ""
            },
            "colorscale": [
             [
              0,
              "#0d0887"
             ],
             [
              0.1111111111111111,
              "#46039f"
             ],
             [
              0.2222222222222222,
              "#7201a8"
             ],
             [
              0.3333333333333333,
              "#9c179e"
             ],
             [
              0.4444444444444444,
              "#bd3786"
             ],
             [
              0.5555555555555556,
              "#d8576b"
             ],
             [
              0.6666666666666666,
              "#ed7953"
             ],
             [
              0.7777777777777778,
              "#fb9f3a"
             ],
             [
              0.8888888888888888,
              "#fdca26"
             ],
             [
              1,
              "#f0f921"
             ]
            ],
            "type": "heatmap"
           }
          ],
          "heatmapgl": [
           {
            "colorbar": {
             "outlinewidth": 0,
             "ticks": ""
            },
            "colorscale": [
             [
              0,
              "#0d0887"
             ],
             [
              0.1111111111111111,
              "#46039f"
             ],
             [
              0.2222222222222222,
              "#7201a8"
             ],
             [
              0.3333333333333333,
              "#9c179e"
             ],
             [
              0.4444444444444444,
              "#bd3786"
             ],
             [
              0.5555555555555556,
              "#d8576b"
             ],
             [
              0.6666666666666666,
              "#ed7953"
             ],
             [
              0.7777777777777778,
              "#fb9f3a"
             ],
             [
              0.8888888888888888,
              "#fdca26"
             ],
             [
              1,
              "#f0f921"
             ]
            ],
            "type": "heatmapgl"
           }
          ],
          "histogram": [
           {
            "marker": {
             "pattern": {
              "fillmode": "overlay",
              "size": 10,
              "solidity": 0.2
             }
            },
            "type": "histogram"
           }
          ],
          "histogram2d": [
           {
            "colorbar": {
             "outlinewidth": 0,
             "ticks": ""
            },
            "colorscale": [
             [
              0,
              "#0d0887"
             ],
             [
              0.1111111111111111,
              "#46039f"
             ],
             [
              0.2222222222222222,
              "#7201a8"
             ],
             [
              0.3333333333333333,
              "#9c179e"
             ],
             [
              0.4444444444444444,
              "#bd3786"
             ],
             [
              0.5555555555555556,
              "#d8576b"
             ],
             [
              0.6666666666666666,
              "#ed7953"
             ],
             [
              0.7777777777777778,
              "#fb9f3a"
             ],
             [
              0.8888888888888888,
              "#fdca26"
             ],
             [
              1,
              "#f0f921"
             ]
            ],
            "type": "histogram2d"
           }
          ],
          "histogram2dcontour": [
           {
            "colorbar": {
             "outlinewidth": 0,
             "ticks": ""
            },
            "colorscale": [
             [
              0,
              "#0d0887"
             ],
             [
              0.1111111111111111,
              "#46039f"
             ],
             [
              0.2222222222222222,
              "#7201a8"
             ],
             [
              0.3333333333333333,
              "#9c179e"
             ],
             [
              0.4444444444444444,
              "#bd3786"
             ],
             [
              0.5555555555555556,
              "#d8576b"
             ],
             [
              0.6666666666666666,
              "#ed7953"
             ],
             [
              0.7777777777777778,
              "#fb9f3a"
             ],
             [
              0.8888888888888888,
              "#fdca26"
             ],
             [
              1,
              "#f0f921"
             ]
            ],
            "type": "histogram2dcontour"
           }
          ],
          "mesh3d": [
           {
            "colorbar": {
             "outlinewidth": 0,
             "ticks": ""
            },
            "type": "mesh3d"
           }
          ],
          "parcoords": [
           {
            "line": {
             "colorbar": {
              "outlinewidth": 0,
              "ticks": ""
             }
            },
            "type": "parcoords"
           }
          ],
          "pie": [
           {
            "automargin": true,
            "type": "pie"
           }
          ],
          "scatter": [
           {
            "fillpattern": {
             "fillmode": "overlay",
             "size": 10,
             "solidity": 0.2
            },
            "type": "scatter"
           }
          ],
          "scatter3d": [
           {
            "line": {
             "colorbar": {
              "outlinewidth": 0,
              "ticks": ""
             }
            },
            "marker": {
             "colorbar": {
              "outlinewidth": 0,
              "ticks": ""
             }
            },
            "type": "scatter3d"
           }
          ],
          "scattercarpet": [
           {
            "marker": {
             "colorbar": {
              "outlinewidth": 0,
              "ticks": ""
             }
            },
            "type": "scattercarpet"
           }
          ],
          "scattergeo": [
           {
            "marker": {
             "colorbar": {
              "outlinewidth": 0,
              "ticks": ""
             }
            },
            "type": "scattergeo"
           }
          ],
          "scattergl": [
           {
            "marker": {
             "colorbar": {
              "outlinewidth": 0,
              "ticks": ""
             }
            },
            "type": "scattergl"
           }
          ],
          "scattermapbox": [
           {
            "marker": {
             "colorbar": {
              "outlinewidth": 0,
              "ticks": ""
             }
            },
            "type": "scattermapbox"
           }
          ],
          "scatterpolar": [
           {
            "marker": {
             "colorbar": {
              "outlinewidth": 0,
              "ticks": ""
             }
            },
            "type": "scatterpolar"
           }
          ],
          "scatterpolargl": [
           {
            "marker": {
             "colorbar": {
              "outlinewidth": 0,
              "ticks": ""
             }
            },
            "type": "scatterpolargl"
           }
          ],
          "scatterternary": [
           {
            "marker": {
             "colorbar": {
              "outlinewidth": 0,
              "ticks": ""
             }
            },
            "type": "scatterternary"
           }
          ],
          "surface": [
           {
            "colorbar": {
             "outlinewidth": 0,
             "ticks": ""
            },
            "colorscale": [
             [
              0,
              "#0d0887"
             ],
             [
              0.1111111111111111,
              "#46039f"
             ],
             [
              0.2222222222222222,
              "#7201a8"
             ],
             [
              0.3333333333333333,
              "#9c179e"
             ],
             [
              0.4444444444444444,
              "#bd3786"
             ],
             [
              0.5555555555555556,
              "#d8576b"
             ],
             [
              0.6666666666666666,
              "#ed7953"
             ],
             [
              0.7777777777777778,
              "#fb9f3a"
             ],
             [
              0.8888888888888888,
              "#fdca26"
             ],
             [
              1,
              "#f0f921"
             ]
            ],
            "type": "surface"
           }
          ],
          "table": [
           {
            "cells": {
             "fill": {
              "color": "#EBF0F8"
             },
             "line": {
              "color": "white"
             }
            },
            "header": {
             "fill": {
              "color": "#C8D4E3"
             },
             "line": {
              "color": "white"
             }
            },
            "type": "table"
           }
          ]
         },
         "layout": {
          "annotationdefaults": {
           "arrowcolor": "#2a3f5f",
           "arrowhead": 0,
           "arrowwidth": 1
          },
          "autotypenumbers": "strict",
          "coloraxis": {
           "colorbar": {
            "outlinewidth": 0,
            "ticks": ""
           }
          },
          "colorscale": {
           "diverging": [
            [
             0,
             "#8e0152"
            ],
            [
             0.1,
             "#c51b7d"
            ],
            [
             0.2,
             "#de77ae"
            ],
            [
             0.3,
             "#f1b6da"
            ],
            [
             0.4,
             "#fde0ef"
            ],
            [
             0.5,
             "#f7f7f7"
            ],
            [
             0.6,
             "#e6f5d0"
            ],
            [
             0.7,
             "#b8e186"
            ],
            [
             0.8,
             "#7fbc41"
            ],
            [
             0.9,
             "#4d9221"
            ],
            [
             1,
             "#276419"
            ]
           ],
           "sequential": [
            [
             0,
             "#0d0887"
            ],
            [
             0.1111111111111111,
             "#46039f"
            ],
            [
             0.2222222222222222,
             "#7201a8"
            ],
            [
             0.3333333333333333,
             "#9c179e"
            ],
            [
             0.4444444444444444,
             "#bd3786"
            ],
            [
             0.5555555555555556,
             "#d8576b"
            ],
            [
             0.6666666666666666,
             "#ed7953"
            ],
            [
             0.7777777777777778,
             "#fb9f3a"
            ],
            [
             0.8888888888888888,
             "#fdca26"
            ],
            [
             1,
             "#f0f921"
            ]
           ],
           "sequentialminus": [
            [
             0,
             "#0d0887"
            ],
            [
             0.1111111111111111,
             "#46039f"
            ],
            [
             0.2222222222222222,
             "#7201a8"
            ],
            [
             0.3333333333333333,
             "#9c179e"
            ],
            [
             0.4444444444444444,
             "#bd3786"
            ],
            [
             0.5555555555555556,
             "#d8576b"
            ],
            [
             0.6666666666666666,
             "#ed7953"
            ],
            [
             0.7777777777777778,
             "#fb9f3a"
            ],
            [
             0.8888888888888888,
             "#fdca26"
            ],
            [
             1,
             "#f0f921"
            ]
           ]
          },
          "colorway": [
           "#636efa",
           "#EF553B",
           "#00cc96",
           "#ab63fa",
           "#FFA15A",
           "#19d3f3",
           "#FF6692",
           "#B6E880",
           "#FF97FF",
           "#FECB52"
          ],
          "font": {
           "color": "#2a3f5f"
          },
          "geo": {
           "bgcolor": "white",
           "lakecolor": "white",
           "landcolor": "#E5ECF6",
           "showlakes": true,
           "showland": true,
           "subunitcolor": "white"
          },
          "hoverlabel": {
           "align": "left"
          },
          "hovermode": "closest",
          "mapbox": {
           "style": "light"
          },
          "paper_bgcolor": "white",
          "plot_bgcolor": "#E5ECF6",
          "polar": {
           "angularaxis": {
            "gridcolor": "white",
            "linecolor": "white",
            "ticks": ""
           },
           "bgcolor": "#E5ECF6",
           "radialaxis": {
            "gridcolor": "white",
            "linecolor": "white",
            "ticks": ""
           }
          },
          "scene": {
           "xaxis": {
            "backgroundcolor": "#E5ECF6",
            "gridcolor": "white",
            "gridwidth": 2,
            "linecolor": "white",
            "showbackground": true,
            "ticks": "",
            "zerolinecolor": "white"
           },
           "yaxis": {
            "backgroundcolor": "#E5ECF6",
            "gridcolor": "white",
            "gridwidth": 2,
            "linecolor": "white",
            "showbackground": true,
            "ticks": "",
            "zerolinecolor": "white"
           },
           "zaxis": {
            "backgroundcolor": "#E5ECF6",
            "gridcolor": "white",
            "gridwidth": 2,
            "linecolor": "white",
            "showbackground": true,
            "ticks": "",
            "zerolinecolor": "white"
           }
          },
          "shapedefaults": {
           "line": {
            "color": "#2a3f5f"
           }
          },
          "ternary": {
           "aaxis": {
            "gridcolor": "white",
            "linecolor": "white",
            "ticks": ""
           },
           "baxis": {
            "gridcolor": "white",
            "linecolor": "white",
            "ticks": ""
           },
           "bgcolor": "#E5ECF6",
           "caxis": {
            "gridcolor": "white",
            "linecolor": "white",
            "ticks": ""
           }
          },
          "title": {
           "x": 0.05
          },
          "xaxis": {
           "automargin": true,
           "gridcolor": "white",
           "linecolor": "white",
           "ticks": "",
           "title": {
            "standoff": 15
           },
           "zerolinecolor": "white",
           "zerolinewidth": 2
          },
          "yaxis": {
           "automargin": true,
           "gridcolor": "white",
           "linecolor": "white",
           "ticks": "",
           "title": {
            "standoff": 15
           },
           "zerolinecolor": "white",
           "zerolinewidth": 2
          }
         }
        },
        "xaxis": {
         "autorange": true,
         "range": [
          -0.05997454661151765,
          1.0599745466115176
         ],
         "type": "linear"
        },
        "yaxis": {
         "autorange": true,
         "range": [
          0.2275062839805826,
          10.289735216019416
         ],
         "type": "linear"
        }
       }
      },
      "image/png": "[encoded data removed]",
      "text/html": [
       "<div>                            <div id=\"ba29a214-74c8-4723-81c3-f52fcf171968\" class=\"plotly-graph-div\" style=\"height:525px; width:100%;\"></div>            <script type=\"text/javascript\">                require([\"plotly\"], function(Plotly) {                    window.PLOTLYENV=window.PLOTLYENV || {};                                    if (document.getElementById(\"ba29a214-74c8-4723-81c3-f52fcf171968\")) {                    Plotly.newPlot(                        \"ba29a214-74c8-4723-81c3-f52fcf171968\",                        [{\"name\":\"a\",\"x\":[0,1],\"y\":[8.119822,0.9402475,3.229493,9.341185,5.723919,5.3973985,4.716996,8.423582,4.612071,9.782549,4.8562903,6.04014,7.0959635,3.6966622,4.495921,4.2220354,8.392284,6.14247,4.511704,5.701572,3.6583195,0.34123406,3.007774,7.436549,4.77419,3.5226185,8.503612,1.8034253,7.7582192,3.9169974,3.5003982,3.4907968,3.5831454,11.3288,3.907097,5.696464,2.2367592,0.81884706,2.9247913,5.505234,4.220889,5.7415752,5.316143,1.8910787,3.2078185,2.8419485,1.0067054,3.6524737,3.4675174,3.1861134,2.5570426,1.9319935,0.59801984,0.8809114,2.3592668,2.8089845,2.9218209,1.8372817,2.3062203,0.9331213,1.4121523,1.5380168,2.6160653,1.4747156,5.0571265,1.2242417,2.1272223,2.1090765,0.7570004,0.21161248,1.3574699,0.2808871,1.509648,1.0104232,1.6852046,0.34118828,1.7531191,1.1776304,1.2711377,2.583817,3.1530035,1.2605577,0.6902214,1.6656442,0.48181343,0.8728027,2.5081089,1.5760792,1.4189343,0.7439399,0.79699355,0.8149728,0.097582504,1.6767323,1.8471721,1.514013,0.098826304,1.4127332,0.49021772,2.2246778,1.1924645,1.8432845,0.96864253,1.3835751,3.0867515,0.9654981,1.6483736,0.710123,1.1033162,1.0369835,0.676562,0.59893006,1.7481245,1.963239,1.5116208,1.103605,0.5946347,1.3780924,1.9911962,0.5399275,0.48628908,0.27094817,1.3843166,1.0646852,0.64727813,0.2093051,0.33462304,0.9877186,0.0722495,0.7408088,0.7590084,1.8902949,1.58287,1.1286323,1.2538593,1.0254462,0.6111356,2.0124319,1.0539919,0.72955716,0.82510626,1.352047,1.4406304,0.8548115,0.76409525,0.600452,0.7588134,1.8075927,0.7423207,0.5975759,0.027275521,0.6523324,0.7581505,0.39195377,1.1660464,0.72205776,0.23695046,0.27146408,1.0564698,0.9638665,0.44762915,0.07925257,0.23723993,0.13582332,0.03318081,0.5722248,0.5728078,0.22425224,1.7336931,1.9107767,0.61155415,0.18978998,0.26551795,0.3300724,0.86627424,0.41774306,0.39325243,1.0213288,0.8896936,0.42777377,0.42228362,0.40257812,0.7883654,1.951148,0.55608505,1.047178,0.73085964,0.42549568,0.9151305,0.66025054,0.6933654,0.6368299,0.8704666,0.01677738,0.8860041,0.37266177,0.5117581,0.7119954,0.4159606,0.72063625],\"type\":\"scatter\"},{\"name\":\"b\",\"x\":[0,1],\"y\":[9.576994,5.9909525,6.6011596,9.289574,5.863434,7.8252034,8.192879,8.071185,7.813909,8.710083,8.057498,7.485116,8.208965,6.7033873,7.586826,6.227688,5.5867486,7.172433,7.616716,7.2615476,5.4491696,5.007675,6.208762,8.592902,6.157804,6.6421213,9.043645,6.3397365,7.5463943,5.40577,5.8663855,5.7122526,5.302967,7.248067,6.288173,6.723015,4.684423,4.4837894,4.664954,5.638549,5.965152,6.457618,5.4234667,3.9528358,4.3172703,3.8349895,4.1709356,4.760639,4.9422817,4.7243257,4.821143,4.366282,3.41849,3.3581905,3.9087687,3.6932485,3.8104858,3.538984,3.1904237,3.2677317,3.3705482,2.9415865,4.0446005,3.299338,4.4629383,3.2060895,3.7996905,3.1800783,2.8500729,2.6128874,2.8874953,2.4463985,3.1876316,2.838379,2.4286485,2.768685,2.9577754,2.6963267,2.4421613,3.261463,3.6705554,2.3050356,2.5001118,2.4509065,2.3264434,2.2359884,2.9600723,2.5350726,2.417643,2.1438327,2.370777,2.491338,1.7075285,2.4363022,2.5247545,2.563665,1.6770573,2.2541485,1.7790806,2.477648,1.8773258,2.0230746,2.036047,1.7745993,2.9393432,2.094821,2.1479163,1.9024096,1.7564025,1.9416099,1.7628921,1.6653116,2.1362128,2.1997519,1.8522143,1.8541963,1.4965441,1.8153872,1.9536723,1.4654979,1.4560533,1.4343414,1.8000883,1.8010094,1.4423823,1.327421,1.4575201,1.6511362,1.3229703,1.3937538,1.357484,1.942816,1.64504,1.4868817,1.6207912,1.6316339,1.4181546,1.7095473,1.4740124,1.4293584,1.3188219,1.5222957,1.4145873,1.3063935,1.051089,1.3640003,1.2759143,1.6714894,1.1699558,1.2374035,0.9656333,1.3245999,1.2947553,0.94716346,1.3842535,1.1837991,1.1934671,0.9460564,1.2170753,1.3713307,1.1022922,0.7599247,1.1069942,0.79771835,1.0375973,1.2293241,1.1719377,0.9586881,1.6268257,1.6452788,1.036791,0.86453867,0.83773696,1.1530952,1.0747958,1.0926323,0.8892747,1.310763,1.1026942,1.0821764,1.0887599,0.90103334,1.1653552,1.5419751,0.9412638,1.0678966,1.0225968,1.0447553,0.88171166,1.1358646,1.1881384,1.2051398,1.2210315,0.92109996,1.3527539,0.98988944,0.9011748,1.1366631,1.0541523,1.1310428],\"type\":\"scatter\"}],                        {\"template\":{\"data\":{\"histogram2dcontour\":[{\"type\":\"histogram2dcontour\",\"colorbar\":{\"outlinewidth\":0,\"ticks\":\"\"},\"colorscale\":[[0.0,\"#0d0887\"],[0.1111111111111111,\"#46039f\"],[0.2222222222222222,\"#7201a8\"],[0.3333333333333333,\"#9c179e\"],[0.4444444444444444,\"#bd3786\"],[0.5555555555555556,\"#d8576b\"],[0.6666666666666666,\"#ed7953\"],[0.7777777777777778,\"#fb9f3a\"],[0.8888888888888888,\"#fdca26\"],[1.0,\"#f0f921\"]]}],\"choropleth\":[{\"type\":\"choropleth\",\"colorbar\":{\"outlinewidth\":0,\"ticks\":\"\"}}],\"histogram2d\":[{\"type\":\"histogram2d\",\"colorbar\":{\"outlinewidth\":0,\"ticks\":\"\"},\"colorscale\":[[0.0,\"#0d0887\"],[0.1111111111111111,\"#46039f\"],[0.2222222222222222,\"#7201a8\"],[0.3333333333333333,\"#9c179e\"],[0.4444444444444444,\"#bd3786\"],[0.5555555555555556,\"#d8576b\"],[0.6666666666666666,\"#ed7953\"],[0.7777777777777778,\"#fb9f3a\"],[0.8888888888888888,\"#fdca26\"],[1.0,\"#f0f921\"]]}],\"heatmap\":[{\"type\":\"heatmap\",\"colorbar\":{\"outlinewidth\":0,\"ticks\":\"\"},\"colorscale\":[[0.0,\"#0d0887\"],[0.1111111111111111,\"#46039f\"],[0.2222222222222222,\"#7201a8\"],[0.3333333333333333,\"#9c179e\"],[0.4444444444444444,\"#bd3786\"],[0.5555555555555556,\"#d8576b\"],[0.6666666666666666,\"#ed7953\"],[0.7777777777777778,\"#fb9f3a\"],[0.8888888888888888,\"#fdca26\"],[1.0,\"#f0f921\"]]}],\"heatmapgl\":[{\"type\":\"heatmapgl\",\"colorbar\":{\"outlinewidth\":0,\"ticks\":\"\"},\"colorscale\":[[0.0,\"#0d0887\"],[0.1111111111111111,\"#46039f\"],[0.2222222222222222,\"#7201a8\"],[0.3333333333333333,\"#9c179e\"],[0.4444444444444444,\"#bd3786\"],[0.5555555555555556,\"#d8576b\"],[0.6666666666666666,\"#ed7953\"],[0.7777777777777778,\"#fb9f3a\"],[0.8888888888888888,\"#fdca26\"],[1.0,\"#f0f921\"]]}],\"contourcarpet\":[{\"type\":\"contourcarpet\",\"colorbar\":{\"outlinewidth\":0,\"ticks\":\"\"}}],\"contour\":[{\"type\":\"contour\",\"colorbar\":{\"outlinewidth\":0,\"ticks\":\"\"},\"colorscale\":[[0.0,\"#0d0887\"],[0.1111111111111111,\"#46039f\"],[0.2222222222222222,\"#7201a8\"],[0.3333333333333333,\"#9c179e\"],[0.4444444444444444,\"#bd3786\"],[0.5555555555555556,\"#d8576b\"],[0.6666666666666666,\"#ed7953\"],[0.7777777777777778,\"#fb9f3a\"],[0.8888888888888888,\"#fdca26\"],[1.0,\"#f0f921\"]]}],\"surface\":[{\"type\":\"surface\",\"colorbar\":{\"outlinewidth\":0,\"ticks\":\"\"},\"colorscale\":[[0.0,\"#0d0887\"],[0.1111111111111111,\"#46039f\"],[0.2222222222222222,\"#7201a8\"],[0.3333333333333333,\"#9c179e\"],[0.4444444444444444,\"#bd3786\"],[0.5555555555555556,\"#d8576b\"],[0.6666666666666666,\"#ed7953\"],[0.7777777777777778,\"#fb9f3a\"],[0.8888888888888888,\"#fdca26\"],[1.0,\"#f0f921\"]]}],\"mesh3d\":[{\"type\":\"mesh3d\",\"colorbar\":{\"outlinewidth\":0,\"ticks\":\"\"}}],\"scatter\":[{\"fillpattern\":{\"fillmode\":\"overlay\",\"size\":10,\"solidity\":0.2},\"type\":\"scatter\"}],\"parcoords\":[{\"type\":\"parcoords\",\"line\":{\"colorbar\":{\"outlinewidth\":0,\"ticks\":\"\"}}}],\"scatterpolargl\":[{\"type\":\"scatterpolargl\",\"marker\":{\"colorbar\":{\"outlinewidth\":0,\"ticks\":\"\"}}}],\"bar\":[{\"error_x\":{\"color\":\"#2a3f5f\"},\"error_y\":{\"color\":\"#2a3f5f\"},\"marker\":{\"line\":{\"color\":\"#E5ECF6\",\"width\":0.5},\"pattern\":{\"fillmode\":\"overlay\",\"size\":10,\"solidity\":0.2}},\"type\":\"bar\"}],\"scattergeo\":[{\"type\":\"scattergeo\",\"marker\":{\"colorbar\":{\"outlinewidth\":0,\"ticks\":\"\"}}}],\"scatterpolar\":[{\"type\":\"scatterpolar\",\"marker\":{\"colorbar\":{\"outlinewidth\":0,\"ticks\":\"\"}}}],\"histogram\":[{\"marker\":{\"pattern\":{\"fillmode\":\"overlay\",\"size\":10,\"solidity\":0.2}},\"type\":\"histogram\"}],\"scattergl\":[{\"type\":\"scattergl\",\"marker\":{\"colorbar\":{\"outlinewidth\":0,\"ticks\":\"\"}}}],\"scatter3d\":[{\"type\":\"scatter3d\",\"line\":{\"colorbar\":{\"outlinewidth\":0,\"ticks\":\"\"}},\"marker\":{\"colorbar\":{\"outlinewidth\":0,\"ticks\":\"\"}}}],\"scattermapbox\":[{\"type\":\"scattermapbox\",\"marker\":{\"colorbar\":{\"outlinewidth\":0,\"ticks\":\"\"}}}],\"scatterternary\":[{\"type\":\"scatterternary\",\"marker\":{\"colorbar\":{\"outlinewidth\":0,\"ticks\":\"\"}}}],\"scattercarpet\":[{\"type\":\"scattercarpet\",\"marker\":{\"colorbar\":{\"outlinewidth\":0,\"ticks\":\"\"}}}],\"carpet\":[{\"aaxis\":{\"endlinecolor\":\"#2a3f5f\",\"gridcolor\":\"white\",\"linecolor\":\"white\",\"minorgridcolor\":\"white\",\"startlinecolor\":\"#2a3f5f\"},\"baxis\":{\"endlinecolor\":\"#2a3f5f\",\"gridcolor\":\"white\",\"linecolor\":\"white\",\"minorgridcolor\":\"white\",\"startlinecolor\":\"#2a3f5f\"},\"type\":\"carpet\"}],\"table\":[{\"cells\":{\"fill\":{\"color\":\"#EBF0F8\"},\"line\":{\"color\":\"white\"}},\"header\":{\"fill\":{\"color\":\"#C8D4E3\"},\"line\":{\"color\":\"white\"}},\"type\":\"table\"}],\"barpolar\":[{\"marker\":{\"line\":{\"color\":\"#E5ECF6\",\"width\":0.5},\"pattern\":{\"fillmode\":\"overlay\",\"size\":10,\"solidity\":0.2}},\"type\":\"barpolar\"}],\"pie\":[{\"automargin\":true,\"type\":\"pie\"}]},\"layout\":{\"autotypenumbers\":\"strict\",\"colorway\":[\"#636efa\",\"#EF553B\",\"#00cc96\",\"#ab63fa\",\"#FFA15A\",\"#19d3f3\",\"#FF6692\",\"#B6E880\",\"#FF97FF\",\"#FECB52\"],\"font\":{\"color\":\"#2a3f5f\"},\"hovermode\":\"closest\",\"hoverlabel\":{\"align\":\"left\"},\"paper_bgcolor\":\"white\",\"plot_bgcolor\":\"#E5ECF6\",\"polar\":{\"bgcolor\":\"#E5ECF6\",\"angularaxis\":{\"gridcolor\":\"white\",\"linecolor\":\"white\",\"ticks\":\"\"},\"radialaxis\":{\"gridcolor\":\"white\",\"linecolor\":\"white\",\"ticks\":\"\"}},\"ternary\":{\"bgcolor\":\"#E5ECF6\",\"aaxis\":{\"gridcolor\":\"white\",\"linecolor\":\"white\",\"ticks\":\"\"},\"baxis\":{\"gridcolor\":\"white\",\"linecolor\":\"white\",\"ticks\":\"\"},\"caxis\":{\"gridcolor\":\"white\",\"linecolor\":\"white\",\"ticks\":\"\"}},\"coloraxis\":{\"colorbar\":{\"outlinewidth\":0,\"ticks\":\"\"}},\"colorscale\":{\"sequential\":[[0.0,\"#0d0887\"],[0.1111111111111111,\"#46039f\"],[0.2222222222222222,\"#7201a8\"],[0.3333333333333333,\"#9c179e\"],[0.4444444444444444,\"#bd3786\"],[0.5555555555555556,\"#d8576b\"],[0.6666666666666666,\"#ed7953\"],[0.7777777777777778,\"#fb9f3a\"],[0.8888888888888888,\"#fdca26\"],[1.0,\"#f0f921\"]],\"sequentialminus\":[[0.0,\"#0d0887\"],[0.1111111111111111,\"#46039f\"],[0.2222222222222222,\"#7201a8\"],[0.3333333333333333,\"#9c179e\"],[0.4444444444444444,\"#bd3786\"],[0.5555555555555556,\"#d8576b\"],[0.6666666666666666,\"#ed7953\"],[0.7777777777777778,\"#fb9f3a\"],[0.8888888888888888,\"#fdca26\"],[1.0,\"#f0f921\"]],\"diverging\":[[0,\"#8e0152\"],[0.1,\"#c51b7d\"],[0.2,\"#de77ae\"],[0.3,\"#f1b6da\"],[0.4,\"#fde0ef\"],[0.5,\"#f7f7f7\"],[0.6,\"#e6f5d0\"],[0.7,\"#b8e186\"],[0.8,\"#7fbc41\"],[0.9,\"#4d9221\"],[1,\"#276419\"]]},\"xaxis\":{\"gridcolor\":\"white\",\"linecolor\":\"white\",\"ticks\":\"\",\"title\":{\"standoff\":15},\"zerolinecolor\":\"white\",\"automargin\":true,\"zerolinewidth\":2},\"yaxis\":{\"gridcolor\":\"white\",\"linecolor\":\"white\",\"ticks\":\"\",\"title\":{\"standoff\":15},\"zerolinecolor\":\"white\",\"automargin\":true,\"zerolinewidth\":2},\"scene\":{\"xaxis\":{\"backgroundcolor\":\"#E5ECF6\",\"gridcolor\":\"white\",\"linecolor\":\"white\",\"showbackground\":true,\"ticks\":\"\",\"zerolinecolor\":\"white\",\"gridwidth\":2},\"yaxis\":{\"backgroundcolor\":\"#E5ECF6\",\"gridcolor\":\"white\",\"linecolor\":\"white\",\"showbackground\":true,\"ticks\":\"\",\"zerolinecolor\":\"white\",\"gridwidth\":2},\"zaxis\":{\"backgroundcolor\":\"#E5ECF6\",\"gridcolor\":\"white\",\"linecolor\":\"white\",\"showbackground\":true,\"ticks\":\"\",\"zerolinecolor\":\"white\",\"gridwidth\":2}},\"shapedefaults\":{\"line\":{\"color\":\"#2a3f5f\"}},\"annotationdefaults\":{\"arrowcolor\":\"#2a3f5f\",\"arrowhead\":0,\"arrowwidth\":1},\"geo\":{\"bgcolor\":\"white\",\"landcolor\":\"#E5ECF6\",\"subunitcolor\":\"white\",\"showland\":true,\"showlakes\":true,\"lakecolor\":\"white\"},\"title\":{\"x\":0.05},\"mapbox\":{\"style\":\"light\"}}}},                        {\"responsive\": true}                    ).then(function(){\n",
       "                            \n",
       "var gd = document.getElementById('ba29a214-74c8-4723-81c3-f52fcf171968');\n",
       "var x = new MutationObserver(function (mutations, observer) {{\n",
       "        var display = window.getComputedStyle(gd).display;\n",
       "        if (!display || display === 'none') {{\n",
       "            console.log([gd, 'removed!']);\n",
       "            Plotly.purge(gd);\n",
       "            observer.disconnect();\n",
       "        }}\n",
       "}});\n",
       "\n",
       "// Listen for the removal of the full notebook cells\n",
       "var notebookContainer = gd.closest('#notebook-container');\n",
       "if (notebookContainer) {{\n",
       "    x.observe(notebookContainer, {childList: true});\n",
       "}}\n",
       "\n",
       "// Listen for the clearing of the current output cell\n",
       "var outputEl = gd.closest('.output');\n",
       "if (outputEl) {{\n",
       "    x.observe(outputEl, {childList: true});\n",
       "}}\n",
       "\n",
       "                        })                };                });            </script>        </div>"
      ]
     },
     "metadata": {},
     "output_type": "display_data"
    }
   ],
   "source": [
    "learner = synth_learner(100,20)\n",
    "l = L()\n",
    "learner.fit_one_cycle(2, cbs=GradShowCallback(l))"
   ]
  },
  {
   "cell_type": "code",
   "execution_count": null,
   "id": "d27e8a39-6b7a-43b2-9fb2-6770df5ab5fb",
   "metadata": {},
   "outputs": [
    {
     "data": {
      "text/plain": [
       "200"
      ]
     },
     "execution_count": null,
     "metadata": {},
     "output_type": "execute_result"
    }
   ],
   "source": [
    "len(l)"
   ]
  },
  {
   "cell_type": "code",
   "execution_count": null,
   "id": "73b68e6f-4085-43f3-a8ad-af55b4b54f24",
   "metadata": {},
   "outputs": [],
   "source": [
    "#| hide\n",
    "import nbdev; nbdev.nbdev_export()"
   ]
  }
 ],
 "metadata": {
  "kernelspec": {
   "display_name": "Python 3 (ipykernel)",
   "language": "python",
   "name": "python3"
  },
  "widgets": {
   "application/vnd.jupyter.widget-state+json": {
    "state": {},
    "version_major": 2,
    "version_minor": 0
   }
  }
 },
 "nbformat": 4,
 "nbformat_minor": 5
}
